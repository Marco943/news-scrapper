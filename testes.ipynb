{
 "cells": [
  {
   "cell_type": "code",
   "execution_count": 7,
   "metadata": {},
   "outputs": [],
   "source": [
    "import httpx\n",
    "from bs4 import BeautifulSoup\n",
    "from fake_useragent import UserAgent\n",
    "import re"
   ]
  },
  {
   "cell_type": "code",
   "execution_count": 2,
   "metadata": {},
   "outputs": [],
   "source": [
    "s = httpx.Client(headers={'User-Agent': UserAgent().random})"
   ]
  },
  {
   "cell_type": "code",
   "execution_count": 3,
   "metadata": {},
   "outputs": [],
   "source": [
    "pagina_inicial = BeautifulSoup(s.get(\"https://exame.com/economia/\").content, 'lxml')"
   ]
  },
  {
   "cell_type": "code",
   "execution_count": 14,
   "metadata": {},
   "outputs": [],
   "source": [
    "noticias_url=pagina_inicial.find_all('a', {'href': re.compile(r'.*/economia/.+')})"
   ]
  },
  {
   "cell_type": "code",
   "execution_count": 17,
   "metadata": {},
   "outputs": [
    {
     "data": {
      "text/plain": [
       "'/economia/confins-e-curitiba-sao-os-aeroportos-mais-bem-avaliados-no-brasil-diz-anac-entenda-por-que/'"
      ]
     },
     "execution_count": 17,
     "metadata": {},
     "output_type": "execute_result"
    }
   ],
   "source": [
    "url = noticias_url[0].get('href')\n",
    "url"
   ]
  },
  {
   "cell_type": "code",
   "execution_count": 21,
   "metadata": {},
   "outputs": [],
   "source": [
    "soup = BeautifulSoup(s.get(\"https://exame.com\"+url).content, 'lxml')"
   ]
  },
  {
   "cell_type": "code",
   "execution_count": 60,
   "metadata": {},
   "outputs": [
    {
     "name": "stdout",
     "output_type": "stream",
     "text": [
      "Confins e Curitiba são os aeroportos mais bem-avaliados no Brasil, diz Anac, entenda por quê\n",
      "https://classic.exame.com/wp-content/uploads/2024/02/CWB_Divulgacao-CCR-Aeroportos_5.jpeg?quality=70&strip=info&w=1024\n",
      "Publicado em 18 de fevereiro de 2024 às, 11h21.\n"
     ]
    }
   ],
   "source": [
    "print(soup.find('section', id='news-component').find('h1').text)\n",
    "print(soup.find('section', id='news-component').find('div', class_='news-main-image').find('noscript').find('img').get('src'))\n",
    "print(soup.find('section', id='news-component').find(class_='body-small').text)"
   ]
  },
  {
   "cell_type": "code",
   "execution_count": null,
   "metadata": {},
   "outputs": [],
   "source": []
  }
 ],
 "metadata": {
  "kernelspec": {
   "display_name": "Python 3",
   "language": "python",
   "name": "python3"
  },
  "language_info": {
   "codemirror_mode": {
    "name": "ipython",
    "version": 3
   },
   "file_extension": ".py",
   "mimetype": "text/x-python",
   "name": "python",
   "nbconvert_exporter": "python",
   "pygments_lexer": "ipython3",
   "version": "3.12.0"
  }
 },
 "nbformat": 4,
 "nbformat_minor": 2
}
